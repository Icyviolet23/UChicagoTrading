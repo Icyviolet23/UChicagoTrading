{
 "cells": [
  {
   "cell_type": "code",
   "execution_count": 4,
   "id": "bffa316e",
   "metadata": {},
   "outputs": [],
   "source": [
    "import pandas as pd\n",
    "import numpy as np\n",
    "import scipy as sc"
   ]
  },
  {
   "cell_type": "code",
   "execution_count": 5,
   "id": "79338792",
   "metadata": {},
   "outputs": [],
   "source": [
    "sharesOutstanding = pd.read_csv(\"Shares Outstanding.csv\")"
   ]
  },
  {
   "cell_type": "code",
   "execution_count": 9,
   "id": "b471ec79",
   "metadata": {},
   "outputs": [
    {
     "data": {
      "text/html": [
       "<div>\n",
       "<style scoped>\n",
       "    .dataframe tbody tr th:only-of-type {\n",
       "        vertical-align: middle;\n",
       "    }\n",
       "\n",
       "    .dataframe tbody tr th {\n",
       "        vertical-align: top;\n",
       "    }\n",
       "\n",
       "    .dataframe thead th {\n",
       "        text-align: right;\n",
       "    }\n",
       "</style>\n",
       "<table border=\"1\" class=\"dataframe\">\n",
       "  <thead>\n",
       "    <tr style=\"text-align: right;\">\n",
       "      <th></th>\n",
       "      <th>Unnamed: 0</th>\n",
       "      <th>A</th>\n",
       "      <th>B</th>\n",
       "      <th>C</th>\n",
       "      <th>D</th>\n",
       "      <th>E</th>\n",
       "      <th>F</th>\n",
       "      <th>G</th>\n",
       "      <th>H</th>\n",
       "      <th>I</th>\n",
       "    </tr>\n",
       "  </thead>\n",
       "  <tbody>\n",
       "    <tr>\n",
       "      <th>0</th>\n",
       "      <td>Diluted Shares Outstanding</td>\n",
       "      <td>425000000</td>\n",
       "      <td>246970000</td>\n",
       "      <td>576250000</td>\n",
       "      <td>4230000000</td>\n",
       "      <td>1930000000</td>\n",
       "      <td>3370000000</td>\n",
       "      <td>16320000000</td>\n",
       "      <td>7510000000</td>\n",
       "      <td>508840000</td>\n",
       "    </tr>\n",
       "  </tbody>\n",
       "</table>\n",
       "</div>"
      ],
      "text/plain": [
       "                   Unnamed: 0          A          B          C           D  \\\n",
       "0  Diluted Shares Outstanding  425000000  246970000  576250000  4230000000   \n",
       "\n",
       "            E           F            G           H          I  \n",
       "0  1930000000  3370000000  16320000000  7510000000  508840000  "
      ]
     },
     "execution_count": 9,
     "metadata": {},
     "output_type": "execute_result"
    }
   ],
   "source": [
    "sharesOutstanding"
   ]
  },
  {
   "cell_type": "code",
   "execution_count": 12,
   "id": "a41e1199",
   "metadata": {},
   "outputs": [],
   "source": [
    "data = pd.read_csv(\"Acutal Testing Data.csv\")"
   ]
  },
  {
   "cell_type": "code",
   "execution_count": 13,
   "id": "17fe2f0e",
   "metadata": {},
   "outputs": [
    {
     "data": {
      "text/html": [
       "<div>\n",
       "<style scoped>\n",
       "    .dataframe tbody tr th:only-of-type {\n",
       "        vertical-align: middle;\n",
       "    }\n",
       "\n",
       "    .dataframe tbody tr th {\n",
       "        vertical-align: top;\n",
       "    }\n",
       "\n",
       "    .dataframe thead th {\n",
       "        text-align: right;\n",
       "    }\n",
       "</style>\n",
       "<table border=\"1\" class=\"dataframe\">\n",
       "  <thead>\n",
       "    <tr style=\"text-align: right;\">\n",
       "      <th></th>\n",
       "      <th>Unnamed: 0</th>\n",
       "      <th>A</th>\n",
       "      <th>B</th>\n",
       "      <th>C</th>\n",
       "      <th>D</th>\n",
       "      <th>E</th>\n",
       "      <th>F</th>\n",
       "      <th>G</th>\n",
       "      <th>H</th>\n",
       "      <th>I</th>\n",
       "    </tr>\n",
       "  </thead>\n",
       "  <tbody>\n",
       "    <tr>\n",
       "      <th>0</th>\n",
       "      <td>0</td>\n",
       "      <td>141.964897</td>\n",
       "      <td>226.352949</td>\n",
       "      <td>146.484337</td>\n",
       "      <td>77.539808</td>\n",
       "      <td>134.944262</td>\n",
       "      <td>32.982797</td>\n",
       "      <td>167.440304</td>\n",
       "      <td>297.091832</td>\n",
       "      <td>3091.003490</td>\n",
       "    </tr>\n",
       "    <tr>\n",
       "      <th>1</th>\n",
       "      <td>1</td>\n",
       "      <td>144.935575</td>\n",
       "      <td>227.882208</td>\n",
       "      <td>145.000811</td>\n",
       "      <td>78.897964</td>\n",
       "      <td>139.777286</td>\n",
       "      <td>33.608131</td>\n",
       "      <td>172.101489</td>\n",
       "      <td>305.086648</td>\n",
       "      <td>3101.989323</td>\n",
       "    </tr>\n",
       "    <tr>\n",
       "      <th>2</th>\n",
       "      <td>2</td>\n",
       "      <td>144.437134</td>\n",
       "      <td>234.666980</td>\n",
       "      <td>149.455145</td>\n",
       "      <td>81.378646</td>\n",
       "      <td>137.287929</td>\n",
       "      <td>33.521216</td>\n",
       "      <td>173.138616</td>\n",
       "      <td>304.388169</td>\n",
       "      <td>3134.173443</td>\n",
       "    </tr>\n",
       "    <tr>\n",
       "      <th>3</th>\n",
       "      <td>3</td>\n",
       "      <td>139.034096</td>\n",
       "      <td>231.480569</td>\n",
       "      <td>146.563009</td>\n",
       "      <td>83.680871</td>\n",
       "      <td>140.464937</td>\n",
       "      <td>32.373154</td>\n",
       "      <td>166.264334</td>\n",
       "      <td>300.779456</td>\n",
       "      <td>3122.525940</td>\n",
       "    </tr>\n",
       "    <tr>\n",
       "      <th>4</th>\n",
       "      <td>4</td>\n",
       "      <td>141.213983</td>\n",
       "      <td>233.275829</td>\n",
       "      <td>147.956318</td>\n",
       "      <td>79.816857</td>\n",
       "      <td>134.809211</td>\n",
       "      <td>31.813596</td>\n",
       "      <td>167.837537</td>\n",
       "      <td>312.957644</td>\n",
       "      <td>3134.811377</td>\n",
       "    </tr>\n",
       "  </tbody>\n",
       "</table>\n",
       "</div>"
      ],
      "text/plain": [
       "   Unnamed: 0           A           B           C          D           E  \\\n",
       "0           0  141.964897  226.352949  146.484337  77.539808  134.944262   \n",
       "1           1  144.935575  227.882208  145.000811  78.897964  139.777286   \n",
       "2           2  144.437134  234.666980  149.455145  81.378646  137.287929   \n",
       "3           3  139.034096  231.480569  146.563009  83.680871  140.464937   \n",
       "4           4  141.213983  233.275829  147.956318  79.816857  134.809211   \n",
       "\n",
       "           F           G           H            I  \n",
       "0  32.982797  167.440304  297.091832  3091.003490  \n",
       "1  33.608131  172.101489  305.086648  3101.989323  \n",
       "2  33.521216  173.138616  304.388169  3134.173443  \n",
       "3  32.373154  166.264334  300.779456  3122.525940  \n",
       "4  31.813596  167.837537  312.957644  3134.811377  "
      ]
     },
     "execution_count": 13,
     "metadata": {},
     "output_type": "execute_result"
    }
   ],
   "source": [
    "data.head()"
   ]
  },
  {
   "cell_type": "code",
   "execution_count": null,
   "id": "d05160e3",
   "metadata": {},
   "outputs": [],
   "source": [
    "prediction_1 = pd.read_csv(\"Predicted Testing Data Analyst 1.csv\")\n",
    "prediction_2 = pd.read_csv(\"Predicted Testing Data Analyst 2.csv\")\n",
    "prediction_3 = pd.read_csv(\"Predicted Testing Data Analyst 3.csv\")"
   ]
  }
 ],
 "metadata": {
  "kernelspec": {
   "display_name": "myenv",
   "language": "python",
   "name": "myenv"
  },
  "language_info": {
   "codemirror_mode": {
    "name": "ipython",
    "version": 3
   },
   "file_extension": ".py",
   "mimetype": "text/x-python",
   "name": "python",
   "nbconvert_exporter": "python",
   "pygments_lexer": "ipython3",
   "version": "3.8.8"
  }
 },
 "nbformat": 4,
 "nbformat_minor": 5
}
