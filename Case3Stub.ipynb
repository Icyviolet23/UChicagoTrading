{
 "cells": [
  {
   "cell_type": "code",
   "execution_count": 1,
   "id": "bffa316e",
   "metadata": {},
   "outputs": [],
   "source": [
    "import pandas as pd\n",
    "import numpy as np\n",
    "import scipy as sc"
   ]
  },
  {
   "cell_type": "code",
   "execution_count": 2,
   "id": "7a5a1ae7",
   "metadata": {},
   "outputs": [],
   "source": [
    "sharesOutstanding = pd.read_csv(\"Shares Outstanding.csv\")"
   ]
  },
  {
   "cell_type": "code",
   "execution_count": 3,
   "id": "a1df0e06",
   "metadata": {},
   "outputs": [],
   "source": [
    "sharesOutstanding = sharesOutstanding.iloc[:, 1:]"
   ]
  },
  {
   "cell_type": "code",
   "execution_count": 4,
   "id": "28015458",
   "metadata": {},
   "outputs": [
    {
     "data": {
      "text/html": [
       "<div>\n",
       "<style scoped>\n",
       "    .dataframe tbody tr th:only-of-type {\n",
       "        vertical-align: middle;\n",
       "    }\n",
       "\n",
       "    .dataframe tbody tr th {\n",
       "        vertical-align: top;\n",
       "    }\n",
       "\n",
       "    .dataframe thead th {\n",
       "        text-align: right;\n",
       "    }\n",
       "</style>\n",
       "<table border=\"1\" class=\"dataframe\">\n",
       "  <thead>\n",
       "    <tr style=\"text-align: right;\">\n",
       "      <th></th>\n",
       "      <th>A</th>\n",
       "      <th>B</th>\n",
       "      <th>C</th>\n",
       "      <th>D</th>\n",
       "      <th>E</th>\n",
       "      <th>F</th>\n",
       "      <th>G</th>\n",
       "      <th>H</th>\n",
       "      <th>I</th>\n",
       "    </tr>\n",
       "  </thead>\n",
       "  <tbody>\n",
       "    <tr>\n",
       "      <th>0</th>\n",
       "      <td>425000000</td>\n",
       "      <td>246970000</td>\n",
       "      <td>576250000</td>\n",
       "      <td>4230000000</td>\n",
       "      <td>1930000000</td>\n",
       "      <td>3370000000</td>\n",
       "      <td>16320000000</td>\n",
       "      <td>7510000000</td>\n",
       "      <td>508840000</td>\n",
       "    </tr>\n",
       "  </tbody>\n",
       "</table>\n",
       "</div>"
      ],
      "text/plain": [
       "           A          B          C           D           E           F  \\\n",
       "0  425000000  246970000  576250000  4230000000  1930000000  3370000000   \n",
       "\n",
       "             G           H          I  \n",
       "0  16320000000  7510000000  508840000  "
      ]
     },
     "execution_count": 4,
     "metadata": {},
     "output_type": "execute_result"
    }
   ],
   "source": [
    "sharesOutstanding"
   ]
  },
  {
   "cell_type": "code",
   "execution_count": 5,
   "id": "d72f946b",
   "metadata": {},
   "outputs": [],
   "source": [
    "data = pd.read_csv(\"Acutal Testing Data.csv\")"
   ]
  },
  {
   "cell_type": "code",
   "execution_count": 6,
   "id": "34db04fa",
   "metadata": {},
   "outputs": [],
   "source": [
    "data = data.iloc[:, 1:]"
   ]
  },
  {
   "cell_type": "code",
   "execution_count": 7,
   "id": "1f95f44a",
   "metadata": {},
   "outputs": [],
   "source": [
    "(Datarow, Datacol) = data.shape"
   ]
  },
  {
   "cell_type": "code",
   "execution_count": 8,
   "id": "e34b15d5",
   "metadata": {},
   "outputs": [],
   "source": [
    "#we use an extremely generic split first\n",
    "Split = (70,30)"
   ]
  },
  {
   "cell_type": "code",
   "execution_count": 9,
   "id": "63fb2394",
   "metadata": {},
   "outputs": [],
   "source": [
    "#splitting for train test set\n",
    "\n",
    "train = data[0 : Datarow//10*7]\n",
    "test = data[Datarow//10*7 : ]"
   ]
  },
  {
   "cell_type": "code",
   "execution_count": 10,
   "id": "4382c322",
   "metadata": {},
   "outputs": [],
   "source": [
    "(trainRow, trainCol) = train.shape\n",
    "(testRow, testCol) = test.shape"
   ]
  },
  {
   "cell_type": "code",
   "execution_count": 11,
   "id": "ba0966eb",
   "metadata": {},
   "outputs": [],
   "source": [
    "prediction_1 = pd.read_csv(\"Predicted Testing Data Analyst 1.csv\")\n",
    "prediction_2 = pd.read_csv(\"Predicted Testing Data Analyst 2.csv\")\n",
    "prediction_3 = pd.read_csv(\"Predicted Testing Data Analyst 3.csv\")"
   ]
  },
  {
   "cell_type": "code",
   "execution_count": 12,
   "id": "b500da79",
   "metadata": {},
   "outputs": [],
   "source": [
    "prediction_1 = prediction_1.iloc[:, 1:]\n",
    "prediction_2 = prediction_2.iloc[:, 1:]\n",
    "prediction_3 = prediction_3.iloc[:, 1:]"
   ]
  },
  {
   "cell_type": "code",
   "execution_count": 13,
   "id": "8ae8b6a3",
   "metadata": {},
   "outputs": [],
   "source": [
    "#prediction_1.head()"
   ]
  },
  {
   "cell_type": "code",
   "execution_count": 14,
   "id": "9c7f6923",
   "metadata": {},
   "outputs": [],
   "source": [
    "#prediction_2.head()"
   ]
  },
  {
   "cell_type": "code",
   "execution_count": 15,
   "id": "46cee193",
   "metadata": {},
   "outputs": [],
   "source": [
    "#prediction_3.head()"
   ]
  },
  {
   "cell_type": "code",
   "execution_count": 16,
   "id": "8a503f32",
   "metadata": {},
   "outputs": [
    {
     "data": {
      "text/html": [
       "<div>\n",
       "<style scoped>\n",
       "    .dataframe tbody tr th:only-of-type {\n",
       "        vertical-align: middle;\n",
       "    }\n",
       "\n",
       "    .dataframe tbody tr th {\n",
       "        vertical-align: top;\n",
       "    }\n",
       "\n",
       "    .dataframe thead th {\n",
       "        text-align: right;\n",
       "    }\n",
       "</style>\n",
       "<table border=\"1\" class=\"dataframe\">\n",
       "  <thead>\n",
       "    <tr style=\"text-align: right;\">\n",
       "      <th></th>\n",
       "      <th>A</th>\n",
       "      <th>B</th>\n",
       "      <th>C</th>\n",
       "      <th>D</th>\n",
       "      <th>E</th>\n",
       "      <th>F</th>\n",
       "      <th>G</th>\n",
       "      <th>H</th>\n",
       "      <th>I</th>\n",
       "    </tr>\n",
       "  </thead>\n",
       "  <tbody>\n",
       "    <tr>\n",
       "      <th>0</th>\n",
       "      <td>141.964897</td>\n",
       "      <td>226.352949</td>\n",
       "      <td>146.484337</td>\n",
       "      <td>77.539808</td>\n",
       "      <td>134.944262</td>\n",
       "      <td>32.982797</td>\n",
       "      <td>167.440304</td>\n",
       "      <td>297.091832</td>\n",
       "      <td>3091.003490</td>\n",
       "    </tr>\n",
       "    <tr>\n",
       "      <th>1</th>\n",
       "      <td>144.935575</td>\n",
       "      <td>227.882208</td>\n",
       "      <td>145.000811</td>\n",
       "      <td>78.897964</td>\n",
       "      <td>139.777286</td>\n",
       "      <td>33.608131</td>\n",
       "      <td>172.101489</td>\n",
       "      <td>305.086648</td>\n",
       "      <td>3101.989323</td>\n",
       "    </tr>\n",
       "    <tr>\n",
       "      <th>2</th>\n",
       "      <td>144.437134</td>\n",
       "      <td>234.666980</td>\n",
       "      <td>149.455145</td>\n",
       "      <td>81.378646</td>\n",
       "      <td>137.287929</td>\n",
       "      <td>33.521216</td>\n",
       "      <td>173.138616</td>\n",
       "      <td>304.388169</td>\n",
       "      <td>3134.173443</td>\n",
       "    </tr>\n",
       "    <tr>\n",
       "      <th>3</th>\n",
       "      <td>139.034096</td>\n",
       "      <td>231.480569</td>\n",
       "      <td>146.563009</td>\n",
       "      <td>83.680871</td>\n",
       "      <td>140.464937</td>\n",
       "      <td>32.373154</td>\n",
       "      <td>166.264334</td>\n",
       "      <td>300.779456</td>\n",
       "      <td>3122.525940</td>\n",
       "    </tr>\n",
       "    <tr>\n",
       "      <th>4</th>\n",
       "      <td>141.213983</td>\n",
       "      <td>233.275829</td>\n",
       "      <td>147.956318</td>\n",
       "      <td>79.816857</td>\n",
       "      <td>134.809211</td>\n",
       "      <td>31.813596</td>\n",
       "      <td>167.837537</td>\n",
       "      <td>312.957644</td>\n",
       "      <td>3134.811377</td>\n",
       "    </tr>\n",
       "  </tbody>\n",
       "</table>\n",
       "</div>"
      ],
      "text/plain": [
       "            A           B           C          D           E          F  \\\n",
       "0  141.964897  226.352949  146.484337  77.539808  134.944262  32.982797   \n",
       "1  144.935575  227.882208  145.000811  78.897964  139.777286  33.608131   \n",
       "2  144.437134  234.666980  149.455145  81.378646  137.287929  33.521216   \n",
       "3  139.034096  231.480569  146.563009  83.680871  140.464937  32.373154   \n",
       "4  141.213983  233.275829  147.956318  79.816857  134.809211  31.813596   \n",
       "\n",
       "            G           H            I  \n",
       "0  167.440304  297.091832  3091.003490  \n",
       "1  172.101489  305.086648  3101.989323  \n",
       "2  173.138616  304.388169  3134.173443  \n",
       "3  166.264334  300.779456  3122.525940  \n",
       "4  167.837537  312.957644  3134.811377  "
      ]
     },
     "execution_count": 16,
     "metadata": {},
     "output_type": "execute_result"
    }
   ],
   "source": [
    "train.head()"
   ]
  },
  {
   "cell_type": "code",
   "execution_count": null,
   "id": "c00d504c",
   "metadata": {},
   "outputs": [],
   "source": []
  },
  {
   "cell_type": "code",
   "execution_count": 17,
   "id": "1ab94a04",
   "metadata": {},
   "outputs": [
    {
     "data": {
      "text/html": [
       "<div>\n",
       "<style scoped>\n",
       "    .dataframe tbody tr th:only-of-type {\n",
       "        vertical-align: middle;\n",
       "    }\n",
       "\n",
       "    .dataframe tbody tr th {\n",
       "        vertical-align: top;\n",
       "    }\n",
       "\n",
       "    .dataframe thead th {\n",
       "        text-align: right;\n",
       "    }\n",
       "</style>\n",
       "<table border=\"1\" class=\"dataframe\">\n",
       "  <thead>\n",
       "    <tr style=\"text-align: right;\">\n",
       "      <th></th>\n",
       "      <th>A</th>\n",
       "      <th>B</th>\n",
       "      <th>C</th>\n",
       "      <th>D</th>\n",
       "      <th>E</th>\n",
       "      <th>F</th>\n",
       "      <th>G</th>\n",
       "      <th>H</th>\n",
       "      <th>I</th>\n",
       "    </tr>\n",
       "  </thead>\n",
       "  <tbody>\n",
       "    <tr>\n",
       "      <th>1750</th>\n",
       "      <td>913.101978</td>\n",
       "      <td>1607.232407</td>\n",
       "      <td>583.859981</td>\n",
       "      <td>106.878513</td>\n",
       "      <td>181.004480</td>\n",
       "      <td>154.274392</td>\n",
       "      <td>5995.375177</td>\n",
       "      <td>8308.623004</td>\n",
       "      <td>91405.65478</td>\n",
       "    </tr>\n",
       "    <tr>\n",
       "      <th>1751</th>\n",
       "      <td>924.252572</td>\n",
       "      <td>1645.848950</td>\n",
       "      <td>601.422483</td>\n",
       "      <td>109.950566</td>\n",
       "      <td>186.846766</td>\n",
       "      <td>160.151465</td>\n",
       "      <td>6002.865720</td>\n",
       "      <td>8242.598273</td>\n",
       "      <td>92811.13835</td>\n",
       "    </tr>\n",
       "    <tr>\n",
       "      <th>1752</th>\n",
       "      <td>905.048112</td>\n",
       "      <td>1709.280444</td>\n",
       "      <td>602.324912</td>\n",
       "      <td>106.962177</td>\n",
       "      <td>188.523359</td>\n",
       "      <td>160.884749</td>\n",
       "      <td>5981.571700</td>\n",
       "      <td>8359.614922</td>\n",
       "      <td>92887.80607</td>\n",
       "    </tr>\n",
       "    <tr>\n",
       "      <th>1753</th>\n",
       "      <td>912.758500</td>\n",
       "      <td>1695.297285</td>\n",
       "      <td>588.572990</td>\n",
       "      <td>103.279497</td>\n",
       "      <td>185.951549</td>\n",
       "      <td>152.867507</td>\n",
       "      <td>5975.784259</td>\n",
       "      <td>8204.472718</td>\n",
       "      <td>95897.24515</td>\n",
       "    </tr>\n",
       "    <tr>\n",
       "      <th>1754</th>\n",
       "      <td>932.547016</td>\n",
       "      <td>1677.149825</td>\n",
       "      <td>587.449461</td>\n",
       "      <td>102.705908</td>\n",
       "      <td>180.318411</td>\n",
       "      <td>157.815243</td>\n",
       "      <td>6153.334291</td>\n",
       "      <td>8301.332889</td>\n",
       "      <td>100716.85630</td>\n",
       "    </tr>\n",
       "  </tbody>\n",
       "</table>\n",
       "</div>"
      ],
      "text/plain": [
       "               A            B           C           D           E           F  \\\n",
       "1750  913.101978  1607.232407  583.859981  106.878513  181.004480  154.274392   \n",
       "1751  924.252572  1645.848950  601.422483  109.950566  186.846766  160.151465   \n",
       "1752  905.048112  1709.280444  602.324912  106.962177  188.523359  160.884749   \n",
       "1753  912.758500  1695.297285  588.572990  103.279497  185.951549  152.867507   \n",
       "1754  932.547016  1677.149825  587.449461  102.705908  180.318411  157.815243   \n",
       "\n",
       "                G            H             I  \n",
       "1750  5995.375177  8308.623004   91405.65478  \n",
       "1751  6002.865720  8242.598273   92811.13835  \n",
       "1752  5981.571700  8359.614922   92887.80607  \n",
       "1753  5975.784259  8204.472718   95897.24515  \n",
       "1754  6153.334291  8301.332889  100716.85630  "
      ]
     },
     "execution_count": 17,
     "metadata": {},
     "output_type": "execute_result"
    }
   ],
   "source": [
    "test.head()"
   ]
  },
  {
   "cell_type": "code",
   "execution_count": 18,
   "id": "9ac912a8",
   "metadata": {},
   "outputs": [],
   "source": [
    "#note the parameters are np.arrays\n",
    "#we do simplistic log return but need to change later\n",
    "def getLogreturn(previousPrice, CurrentPrice):\n",
    "    return np.log(CurrentPrice/previousPrice)"
   ]
  },
  {
   "cell_type": "code",
   "execution_count": 19,
   "id": "20283bbd",
   "metadata": {},
   "outputs": [],
   "source": [
    "#we use the log difference of the return\n",
    "stockreturn = np.log(train).diff()\n",
    "\n"
   ]
  },
  {
   "cell_type": "code",
   "execution_count": 20,
   "id": "3bef41dd",
   "metadata": {},
   "outputs": [
    {
     "data": {
      "text/html": [
       "<div>\n",
       "<style scoped>\n",
       "    .dataframe tbody tr th:only-of-type {\n",
       "        vertical-align: middle;\n",
       "    }\n",
       "\n",
       "    .dataframe tbody tr th {\n",
       "        vertical-align: top;\n",
       "    }\n",
       "\n",
       "    .dataframe thead th {\n",
       "        text-align: right;\n",
       "    }\n",
       "</style>\n",
       "<table border=\"1\" class=\"dataframe\">\n",
       "  <thead>\n",
       "    <tr style=\"text-align: right;\">\n",
       "      <th></th>\n",
       "      <th>A</th>\n",
       "      <th>B</th>\n",
       "      <th>C</th>\n",
       "      <th>D</th>\n",
       "      <th>E</th>\n",
       "      <th>F</th>\n",
       "      <th>G</th>\n",
       "      <th>H</th>\n",
       "      <th>I</th>\n",
       "    </tr>\n",
       "  </thead>\n",
       "  <tbody>\n",
       "    <tr>\n",
       "      <th>0</th>\n",
       "      <td>NaN</td>\n",
       "      <td>NaN</td>\n",
       "      <td>NaN</td>\n",
       "      <td>NaN</td>\n",
       "      <td>NaN</td>\n",
       "      <td>NaN</td>\n",
       "      <td>NaN</td>\n",
       "      <td>NaN</td>\n",
       "      <td>NaN</td>\n",
       "    </tr>\n",
       "    <tr>\n",
       "      <th>1</th>\n",
       "      <td>0.020710</td>\n",
       "      <td>0.006733</td>\n",
       "      <td>-0.010179</td>\n",
       "      <td>0.017364</td>\n",
       "      <td>0.035189</td>\n",
       "      <td>0.018782</td>\n",
       "      <td>0.027457</td>\n",
       "      <td>0.026555</td>\n",
       "      <td>0.003548</td>\n",
       "    </tr>\n",
       "    <tr>\n",
       "      <th>2</th>\n",
       "      <td>-0.003445</td>\n",
       "      <td>0.029339</td>\n",
       "      <td>0.030257</td>\n",
       "      <td>0.030957</td>\n",
       "      <td>-0.017970</td>\n",
       "      <td>-0.002589</td>\n",
       "      <td>0.006008</td>\n",
       "      <td>-0.002292</td>\n",
       "      <td>0.010322</td>\n",
       "    </tr>\n",
       "    <tr>\n",
       "      <th>3</th>\n",
       "      <td>-0.038125</td>\n",
       "      <td>-0.013671</td>\n",
       "      <td>-0.019541</td>\n",
       "      <td>0.027898</td>\n",
       "      <td>0.022878</td>\n",
       "      <td>-0.034849</td>\n",
       "      <td>-0.040514</td>\n",
       "      <td>-0.011926</td>\n",
       "      <td>-0.003723</td>\n",
       "    </tr>\n",
       "    <tr>\n",
       "      <th>4</th>\n",
       "      <td>0.015557</td>\n",
       "      <td>0.007726</td>\n",
       "      <td>0.009462</td>\n",
       "      <td>-0.047276</td>\n",
       "      <td>-0.041097</td>\n",
       "      <td>-0.017436</td>\n",
       "      <td>0.009418</td>\n",
       "      <td>0.039691</td>\n",
       "      <td>0.003927</td>\n",
       "    </tr>\n",
       "  </tbody>\n",
       "</table>\n",
       "</div>"
      ],
      "text/plain": [
       "          A         B         C         D         E         F         G  \\\n",
       "0       NaN       NaN       NaN       NaN       NaN       NaN       NaN   \n",
       "1  0.020710  0.006733 -0.010179  0.017364  0.035189  0.018782  0.027457   \n",
       "2 -0.003445  0.029339  0.030257  0.030957 -0.017970 -0.002589  0.006008   \n",
       "3 -0.038125 -0.013671 -0.019541  0.027898  0.022878 -0.034849 -0.040514   \n",
       "4  0.015557  0.007726  0.009462 -0.047276 -0.041097 -0.017436  0.009418   \n",
       "\n",
       "          H         I  \n",
       "0       NaN       NaN  \n",
       "1  0.026555  0.003548  \n",
       "2 -0.002292  0.010322  \n",
       "3 -0.011926 -0.003723  \n",
       "4  0.039691  0.003927  "
      ]
     },
     "execution_count": 20,
     "metadata": {},
     "output_type": "execute_result"
    }
   ],
   "source": [
    "\n",
    "stockreturn.head()"
   ]
  },
  {
   "cell_type": "code",
   "execution_count": 21,
   "id": "1b2e2f40",
   "metadata": {},
   "outputs": [],
   "source": [
    "cov_matrix = stockreturn.cov()"
   ]
  },
  {
   "cell_type": "code",
   "execution_count": 22,
   "id": "ee8181dd",
   "metadata": {},
   "outputs": [
    {
     "data": {
      "text/html": [
       "<div>\n",
       "<style scoped>\n",
       "    .dataframe tbody tr th:only-of-type {\n",
       "        vertical-align: middle;\n",
       "    }\n",
       "\n",
       "    .dataframe tbody tr th {\n",
       "        vertical-align: top;\n",
       "    }\n",
       "\n",
       "    .dataframe thead th {\n",
       "        text-align: right;\n",
       "    }\n",
       "</style>\n",
       "<table border=\"1\" class=\"dataframe\">\n",
       "  <thead>\n",
       "    <tr style=\"text-align: right;\">\n",
       "      <th></th>\n",
       "      <th>A</th>\n",
       "      <th>B</th>\n",
       "      <th>C</th>\n",
       "      <th>D</th>\n",
       "      <th>E</th>\n",
       "      <th>F</th>\n",
       "      <th>G</th>\n",
       "      <th>H</th>\n",
       "      <th>I</th>\n",
       "    </tr>\n",
       "  </thead>\n",
       "  <tbody>\n",
       "    <tr>\n",
       "      <th>A</th>\n",
       "      <td>0.000237</td>\n",
       "      <td>0.000138</td>\n",
       "      <td>0.000119</td>\n",
       "      <td>0.000099</td>\n",
       "      <td>0.000116</td>\n",
       "      <td>0.000105</td>\n",
       "      <td>0.000134</td>\n",
       "      <td>0.000120</td>\n",
       "      <td>0.000113</td>\n",
       "    </tr>\n",
       "    <tr>\n",
       "      <th>B</th>\n",
       "      <td>0.000138</td>\n",
       "      <td>0.000576</td>\n",
       "      <td>0.000179</td>\n",
       "      <td>0.000165</td>\n",
       "      <td>0.000167</td>\n",
       "      <td>0.000177</td>\n",
       "      <td>0.000236</td>\n",
       "      <td>0.000229</td>\n",
       "      <td>0.000191</td>\n",
       "    </tr>\n",
       "    <tr>\n",
       "      <th>C</th>\n",
       "      <td>0.000119</td>\n",
       "      <td>0.000179</td>\n",
       "      <td>0.000343</td>\n",
       "      <td>0.000139</td>\n",
       "      <td>0.000150</td>\n",
       "      <td>0.000148</td>\n",
       "      <td>0.000165</td>\n",
       "      <td>0.000149</td>\n",
       "      <td>0.000123</td>\n",
       "    </tr>\n",
       "    <tr>\n",
       "      <th>D</th>\n",
       "      <td>0.000099</td>\n",
       "      <td>0.000165</td>\n",
       "      <td>0.000139</td>\n",
       "      <td>0.000739</td>\n",
       "      <td>0.000513</td>\n",
       "      <td>0.000507</td>\n",
       "      <td>0.000137</td>\n",
       "      <td>0.000106</td>\n",
       "      <td>0.000104</td>\n",
       "    </tr>\n",
       "    <tr>\n",
       "      <th>E</th>\n",
       "      <td>0.000116</td>\n",
       "      <td>0.000167</td>\n",
       "      <td>0.000150</td>\n",
       "      <td>0.000513</td>\n",
       "      <td>0.000931</td>\n",
       "      <td>0.000555</td>\n",
       "      <td>0.000157</td>\n",
       "      <td>0.000130</td>\n",
       "      <td>0.000131</td>\n",
       "    </tr>\n",
       "    <tr>\n",
       "      <th>F</th>\n",
       "      <td>0.000105</td>\n",
       "      <td>0.000177</td>\n",
       "      <td>0.000148</td>\n",
       "      <td>0.000507</td>\n",
       "      <td>0.000555</td>\n",
       "      <td>0.000885</td>\n",
       "      <td>0.000166</td>\n",
       "      <td>0.000136</td>\n",
       "      <td>0.000124</td>\n",
       "    </tr>\n",
       "    <tr>\n",
       "      <th>G</th>\n",
       "      <td>0.000134</td>\n",
       "      <td>0.000236</td>\n",
       "      <td>0.000165</td>\n",
       "      <td>0.000137</td>\n",
       "      <td>0.000157</td>\n",
       "      <td>0.000166</td>\n",
       "      <td>0.000650</td>\n",
       "      <td>0.000272</td>\n",
       "      <td>0.000233</td>\n",
       "    </tr>\n",
       "    <tr>\n",
       "      <th>H</th>\n",
       "      <td>0.000120</td>\n",
       "      <td>0.000229</td>\n",
       "      <td>0.000149</td>\n",
       "      <td>0.000106</td>\n",
       "      <td>0.000130</td>\n",
       "      <td>0.000136</td>\n",
       "      <td>0.000272</td>\n",
       "      <td>0.000614</td>\n",
       "      <td>0.000219</td>\n",
       "    </tr>\n",
       "    <tr>\n",
       "      <th>I</th>\n",
       "      <td>0.000113</td>\n",
       "      <td>0.000191</td>\n",
       "      <td>0.000123</td>\n",
       "      <td>0.000104</td>\n",
       "      <td>0.000131</td>\n",
       "      <td>0.000124</td>\n",
       "      <td>0.000233</td>\n",
       "      <td>0.000219</td>\n",
       "      <td>0.000571</td>\n",
       "    </tr>\n",
       "  </tbody>\n",
       "</table>\n",
       "</div>"
      ],
      "text/plain": [
       "          A         B         C         D         E         F         G  \\\n",
       "A  0.000237  0.000138  0.000119  0.000099  0.000116  0.000105  0.000134   \n",
       "B  0.000138  0.000576  0.000179  0.000165  0.000167  0.000177  0.000236   \n",
       "C  0.000119  0.000179  0.000343  0.000139  0.000150  0.000148  0.000165   \n",
       "D  0.000099  0.000165  0.000139  0.000739  0.000513  0.000507  0.000137   \n",
       "E  0.000116  0.000167  0.000150  0.000513  0.000931  0.000555  0.000157   \n",
       "F  0.000105  0.000177  0.000148  0.000507  0.000555  0.000885  0.000166   \n",
       "G  0.000134  0.000236  0.000165  0.000137  0.000157  0.000166  0.000650   \n",
       "H  0.000120  0.000229  0.000149  0.000106  0.000130  0.000136  0.000272   \n",
       "I  0.000113  0.000191  0.000123  0.000104  0.000131  0.000124  0.000233   \n",
       "\n",
       "          H         I  \n",
       "A  0.000120  0.000113  \n",
       "B  0.000229  0.000191  \n",
       "C  0.000149  0.000123  \n",
       "D  0.000106  0.000104  \n",
       "E  0.000130  0.000131  \n",
       "F  0.000136  0.000124  \n",
       "G  0.000272  0.000233  \n",
       "H  0.000614  0.000219  \n",
       "I  0.000219  0.000571  "
      ]
     },
     "execution_count": 22,
     "metadata": {},
     "output_type": "execute_result"
    }
   ],
   "source": [
    "cov_matrix"
   ]
  },
  {
   "cell_type": "code",
   "execution_count": 23,
   "id": "e555edff",
   "metadata": {},
   "outputs": [],
   "source": [
    "#shares outstanding and prices are 2 dataframes\n",
    "def getMCapWeightsMatrix (SharesOutstanding, Prices): \n",
    "    totalMcap = SharesOutstanding.dot(Prices)\n",
    "    \n",
    "    #Mcap of each firm dataframe\n",
    "    Mcap = SharesOutstanding.mul(Prices)\n",
    "    #Mcap = Mcap.div(totalMcap)\n",
    "    for stock in Mcap.columns:\n",
    "        Mcap[stock] = Mcap[stock]/totalMcap\n",
    "    \n",
    "    return Mcap\n",
    "\n"
   ]
  },
  {
   "cell_type": "code",
   "execution_count": 24,
   "id": "c2acc02e",
   "metadata": {},
   "outputs": [],
   "source": [
    "currentPrice = train.iloc[10] #hardcode for testing. This should be a 9x1 vector"
   ]
  },
  {
   "cell_type": "code",
   "execution_count": 25,
   "id": "5da4411d",
   "metadata": {},
   "outputs": [
    {
     "data": {
      "text/plain": [
       "A    141.775168\n",
       "B    245.294243\n",
       "C    155.017936\n",
       "D     75.612571\n",
       "E    135.101029\n",
       "Name: 10, dtype: float64"
      ]
     },
     "execution_count": 25,
     "metadata": {},
     "output_type": "execute_result"
    }
   ],
   "source": [
    "currentPrice.head()"
   ]
  },
  {
   "cell_type": "code",
   "execution_count": 26,
   "id": "528a7af3",
   "metadata": {},
   "outputs": [],
   "source": [
    "riskadversionCoefficent = 3 #hardcoded for now"
   ]
  },
  {
   "cell_type": "code",
   "execution_count": 27,
   "id": "773c93af",
   "metadata": {},
   "outputs": [
    {
     "data": {
      "text/plain": [
       "(9, 9)"
      ]
     },
     "execution_count": 27,
     "metadata": {},
     "output_type": "execute_result"
    }
   ],
   "source": [
    "cov_matrix.shape"
   ]
  },
  {
   "cell_type": "code",
   "execution_count": 28,
   "id": "dadf5a18",
   "metadata": {},
   "outputs": [],
   "source": [
    "Mcap1x9Matrix = getMCapWeightsMatrix(sharesOutstanding,currentPrice).values"
   ]
  },
  {
   "cell_type": "code",
   "execution_count": 29,
   "id": "29d3773a",
   "metadata": {},
   "outputs": [
    {
     "data": {
      "text/plain": [
       "array([[0.00732755, 0.00736718, 0.01086331, 0.0388959 , 0.03170921,\n",
       "        0.01237441, 0.37441448, 0.3110686 , 0.20597937]])"
      ]
     },
     "execution_count": 29,
     "metadata": {},
     "output_type": "execute_result"
    }
   ],
   "source": [
    "Mcap1x9Matrix"
   ]
  },
  {
   "cell_type": "code",
   "execution_count": 30,
   "id": "f94a0a5b",
   "metadata": {},
   "outputs": [],
   "source": [
    "MCapWeightVector = np.transpose(Mcap1x9Matrix)"
   ]
  },
  {
   "cell_type": "code",
   "execution_count": 31,
   "id": "de00d131",
   "metadata": {},
   "outputs": [
    {
     "data": {
      "text/plain": [
       "array([[0.00732755],\n",
       "       [0.00736718],\n",
       "       [0.01086331],\n",
       "       [0.0388959 ],\n",
       "       [0.03170921],\n",
       "       [0.01237441],\n",
       "       [0.37441448],\n",
       "       [0.3110686 ],\n",
       "       [0.20597937]])"
      ]
     },
     "execution_count": 31,
     "metadata": {},
     "output_type": "execute_result"
    }
   ],
   "source": [
    "MCapWeightVector"
   ]
  },
  {
   "cell_type": "code",
   "execution_count": 32,
   "id": "d5f55864",
   "metadata": {},
   "outputs": [],
   "source": [
    "ImpliedEquilibriumReturnVector = riskadversionCoefficent * cov_matrix.dot(MCapWeightVector)"
   ]
  },
  {
   "cell_type": "code",
   "execution_count": 33,
   "id": "b1ca13a9",
   "metadata": {},
   "outputs": [
    {
     "data": {
      "text/html": [
       "<div>\n",
       "<style scoped>\n",
       "    .dataframe tbody tr th:only-of-type {\n",
       "        vertical-align: middle;\n",
       "    }\n",
       "\n",
       "    .dataframe tbody tr th {\n",
       "        vertical-align: top;\n",
       "    }\n",
       "\n",
       "    .dataframe thead th {\n",
       "        text-align: right;\n",
       "    }\n",
       "</style>\n",
       "<table border=\"1\" class=\"dataframe\">\n",
       "  <thead>\n",
       "    <tr style=\"text-align: right;\">\n",
       "      <th></th>\n",
       "      <th>0</th>\n",
       "    </tr>\n",
       "  </thead>\n",
       "  <tbody>\n",
       "    <tr>\n",
       "      <th>A</th>\n",
       "      <td>0.000370</td>\n",
       "    </tr>\n",
       "    <tr>\n",
       "      <th>B</th>\n",
       "      <td>0.000660</td>\n",
       "    </tr>\n",
       "    <tr>\n",
       "      <th>C</th>\n",
       "      <td>0.000454</td>\n",
       "    </tr>\n",
       "    <tr>\n",
       "      <th>D</th>\n",
       "      <td>0.000482</td>\n",
       "    </tr>\n",
       "    <tr>\n",
       "      <th>E</th>\n",
       "      <td>0.000559</td>\n",
       "    </tr>\n",
       "    <tr>\n",
       "      <th>F</th>\n",
       "      <td>0.000546</td>\n",
       "    </tr>\n",
       "    <tr>\n",
       "      <th>G</th>\n",
       "      <td>0.001179</td>\n",
       "    </tr>\n",
       "    <tr>\n",
       "      <th>H</th>\n",
       "      <td>0.001056</td>\n",
       "    </tr>\n",
       "    <tr>\n",
       "      <th>I</th>\n",
       "      <td>0.000859</td>\n",
       "    </tr>\n",
       "  </tbody>\n",
       "</table>\n",
       "</div>"
      ],
      "text/plain": [
       "          0\n",
       "A  0.000370\n",
       "B  0.000660\n",
       "C  0.000454\n",
       "D  0.000482\n",
       "E  0.000559\n",
       "F  0.000546\n",
       "G  0.001179\n",
       "H  0.001056\n",
       "I  0.000859"
      ]
     },
     "execution_count": 33,
     "metadata": {},
     "output_type": "execute_result"
    }
   ],
   "source": [
    "ImpliedEquilibriumReturnVector"
   ]
  },
  {
   "cell_type": "code",
   "execution_count": 34,
   "id": "8b454a81",
   "metadata": {},
   "outputs": [
    {
     "data": {
      "text/plain": [
       "array([ 141.775168  ,  245.2942427 ,  155.0179365 ,   75.61257109,\n",
       "        135.1010291 ,   30.19431058,  188.6527117 ,  340.6016952 ,\n",
       "       3328.687648  ])"
      ]
     },
     "execution_count": 34,
     "metadata": {},
     "output_type": "execute_result"
    }
   ],
   "source": [
    "currentprice = currentPrice.values #convert to numpy array\n",
    "currentprice"
   ]
  },
  {
   "cell_type": "code",
   "execution_count": 35,
   "id": "ebd107aa",
   "metadata": {},
   "outputs": [],
   "source": [
    "predicted_price1 = prediction_1.iloc[11] #one day after the previous day\n",
    "predicted_price2 = prediction_2.iloc[11]\n",
    "predicted_price3 = prediction_3.iloc[11]"
   ]
  },
  {
   "cell_type": "code",
   "execution_count": 36,
   "id": "3c195f2a",
   "metadata": {},
   "outputs": [
    {
     "data": {
      "text/plain": [
       "A     128.009745\n",
       "B     321.469329\n",
       "C     205.908514\n",
       "D      95.204718\n",
       "E      52.061439\n",
       "F      39.076679\n",
       "G      84.491354\n",
       "H     328.813135\n",
       "I    2759.588444\n",
       "Name: 11, dtype: float64"
      ]
     },
     "execution_count": 36,
     "metadata": {},
     "output_type": "execute_result"
    }
   ],
   "source": [
    "predicted_price3"
   ]
  },
  {
   "cell_type": "code",
   "execution_count": 37,
   "id": "29ac3711",
   "metadata": {},
   "outputs": [],
   "source": [
    "#convert to numpy array\n",
    "predictedArray1 = predicted_price1.to_numpy()\n",
    "predictedArray2 = predicted_price2.to_numpy()\n",
    "predictedArray3 = predicted_price3.to_numpy()\n",
    "\n",
    "\n",
    "predictedReturn1 = getLogreturn(currentprice, predictedArray1)\n",
    "predictedReturn2 = getLogreturn(currentprice, predictedArray2)\n",
    "predictedReturn3 = getLogreturn(currentprice, predictedArray3)\n",
    "\n"
   ]
  },
  {
   "cell_type": "code",
   "execution_count": 38,
   "id": "ff4881f9",
   "metadata": {},
   "outputs": [],
   "source": [
    "P = np.array([predictedReturn1,predictedReturn2 ,predictedReturn3])"
   ]
  },
  {
   "cell_type": "code",
   "execution_count": 39,
   "id": "5d1ba6d0",
   "metadata": {},
   "outputs": [
    {
     "data": {
      "text/plain": [
       "(3, 9)"
      ]
     },
     "execution_count": 39,
     "metadata": {},
     "output_type": "execute_result"
    }
   ],
   "source": [
    "P.shape"
   ]
  },
  {
   "cell_type": "code",
   "execution_count": 40,
   "id": "f3e287e2",
   "metadata": {},
   "outputs": [
    {
     "data": {
      "text/plain": [
       "array([[ 0.06524868,  0.01352436, -0.52189693,  0.53877954, -0.58084905,\n",
       "         0.03496488,  0.14319284, -0.33235942, -0.03760997],\n",
       "       [-0.36735158,  0.04990293, -0.13152834,  0.09934027, -0.09373085,\n",
       "         0.36017214, -0.26377242,  0.03044288,  0.15539809],\n",
       "       [-0.10213609,  0.27044366,  0.28389114,  0.23040694, -0.95359832,\n",
       "         0.25787233, -0.80325861, -0.03522414, -0.18749657]])"
      ]
     },
     "execution_count": 40,
     "metadata": {},
     "output_type": "execute_result"
    }
   ],
   "source": [
    "P"
   ]
  },
  {
   "cell_type": "code",
   "execution_count": null,
   "id": "546191e9",
   "metadata": {},
   "outputs": [],
   "source": []
  }
 ],
 "metadata": {
  "kernelspec": {
   "display_name": "myenv",
   "language": "python",
   "name": "myenv"
  },
  "language_info": {
   "codemirror_mode": {
    "name": "ipython",
    "version": 3
   },
   "file_extension": ".py",
   "mimetype": "text/x-python",
   "name": "python",
   "nbconvert_exporter": "python",
   "pygments_lexer": "ipython3",
   "version": "3.8.8"
  }
 },
 "nbformat": 4,
 "nbformat_minor": 5
}
